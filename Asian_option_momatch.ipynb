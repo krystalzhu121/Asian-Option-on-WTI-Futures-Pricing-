{
 "metadata": {
  "language_info": {
   "codemirror_mode": {
    "name": "ipython",
    "version": 3
   },
   "file_extension": ".py",
   "mimetype": "text/x-python",
   "name": "python",
   "nbconvert_exporter": "python",
   "pygments_lexer": "ipython3",
   "version": "3.8.5"
  },
  "orig_nbformat": 2,
  "kernelspec": {
   "name": "python385jvsc74a57bd0290c47f062c339c348b216e5e252d5802aabee26e31abd7dc22b1b71b44f32a4",
   "display_name": "Python 3.8.5 64-bit ('base': conda)"
  },
  "metadata": {
   "interpreter": {
    "hash": "31f2aee4e71d21fbe5cf8b01ff0e069b9275f58929596ceb00d14d90e3e16cd6"
   }
  }
 },
 "nbformat": 4,
 "nbformat_minor": 2,
 "cells": [
  {
   "cell_type": "code",
   "execution_count": 19,
   "metadata": {},
   "outputs": [],
   "source": [
    "import pandas as pd \n",
    "import numpy as np \n",
    "import math\n",
    "import matplotlib.pyplot as plt\n",
    "import scipy.stats\n",
    "from scipy.stats import skew, norm\n",
    "from scipy.optimize import fsolve\n",
    "plt.style.use('seaborn')"
   ]
  },
  {
   "source": [
    "Here we read in the front month WTI futures price from 01/01/2018-09/04/2021"
   ],
   "cell_type": "markdown",
   "metadata": {}
  },
  {
   "cell_type": "code",
   "execution_count": 20,
   "metadata": {},
   "outputs": [
    {
     "output_type": "execute_result",
     "data": {
      "text/plain": [
       "           Date  Month  Day  Year   Open   High    Low  Close\n",
       "0    12/31/2019     12   31  2019  61.68  61.88  60.63  61.06\n",
       "1    12/30/2019     12   30  2019  61.71  62.34  61.09  61.68\n",
       "2    12/27/2019     12   27  2019  61.73  61.97  61.24  61.72\n",
       "3    12/26/2019     12   26  2019  61.20  61.83  61.06  61.68\n",
       "4    12/24/2019     12   24  2019  60.63  61.16  60.47  61.11\n",
       "..          ...    ...  ...   ...    ...    ...    ...    ...\n",
       "821    1/8/2018      1    8  2018  61.61  61.97  61.34  61.73\n",
       "822    1/5/2018      1    5  2018  61.90  62.04  61.09  61.44\n",
       "823    1/4/2018      1    4  2018  61.96  62.21  61.59  62.01\n",
       "824    1/3/2018      1    3  2018  60.39  61.97  60.28  61.63\n",
       "825    1/2/2018      1    2  2018  60.20  60.74  60.10  60.37\n",
       "\n",
       "[826 rows x 8 columns]"
      ],
      "text/html": "<div>\n<style scoped>\n    .dataframe tbody tr th:only-of-type {\n        vertical-align: middle;\n    }\n\n    .dataframe tbody tr th {\n        vertical-align: top;\n    }\n\n    .dataframe thead th {\n        text-align: right;\n    }\n</style>\n<table border=\"1\" class=\"dataframe\">\n  <thead>\n    <tr style=\"text-align: right;\">\n      <th></th>\n      <th>Date</th>\n      <th>Month</th>\n      <th>Day</th>\n      <th>Year</th>\n      <th>Open</th>\n      <th>High</th>\n      <th>Low</th>\n      <th>Close</th>\n    </tr>\n  </thead>\n  <tbody>\n    <tr>\n      <th>0</th>\n      <td>12/31/2019</td>\n      <td>12</td>\n      <td>31</td>\n      <td>2019</td>\n      <td>61.68</td>\n      <td>61.88</td>\n      <td>60.63</td>\n      <td>61.06</td>\n    </tr>\n    <tr>\n      <th>1</th>\n      <td>12/30/2019</td>\n      <td>12</td>\n      <td>30</td>\n      <td>2019</td>\n      <td>61.71</td>\n      <td>62.34</td>\n      <td>61.09</td>\n      <td>61.68</td>\n    </tr>\n    <tr>\n      <th>2</th>\n      <td>12/27/2019</td>\n      <td>12</td>\n      <td>27</td>\n      <td>2019</td>\n      <td>61.73</td>\n      <td>61.97</td>\n      <td>61.24</td>\n      <td>61.72</td>\n    </tr>\n    <tr>\n      <th>3</th>\n      <td>12/26/2019</td>\n      <td>12</td>\n      <td>26</td>\n      <td>2019</td>\n      <td>61.20</td>\n      <td>61.83</td>\n      <td>61.06</td>\n      <td>61.68</td>\n    </tr>\n    <tr>\n      <th>4</th>\n      <td>12/24/2019</td>\n      <td>12</td>\n      <td>24</td>\n      <td>2019</td>\n      <td>60.63</td>\n      <td>61.16</td>\n      <td>60.47</td>\n      <td>61.11</td>\n    </tr>\n    <tr>\n      <th>...</th>\n      <td>...</td>\n      <td>...</td>\n      <td>...</td>\n      <td>...</td>\n      <td>...</td>\n      <td>...</td>\n      <td>...</td>\n      <td>...</td>\n    </tr>\n    <tr>\n      <th>821</th>\n      <td>1/8/2018</td>\n      <td>1</td>\n      <td>8</td>\n      <td>2018</td>\n      <td>61.61</td>\n      <td>61.97</td>\n      <td>61.34</td>\n      <td>61.73</td>\n    </tr>\n    <tr>\n      <th>822</th>\n      <td>1/5/2018</td>\n      <td>1</td>\n      <td>5</td>\n      <td>2018</td>\n      <td>61.90</td>\n      <td>62.04</td>\n      <td>61.09</td>\n      <td>61.44</td>\n    </tr>\n    <tr>\n      <th>823</th>\n      <td>1/4/2018</td>\n      <td>1</td>\n      <td>4</td>\n      <td>2018</td>\n      <td>61.96</td>\n      <td>62.21</td>\n      <td>61.59</td>\n      <td>62.01</td>\n    </tr>\n    <tr>\n      <th>824</th>\n      <td>1/3/2018</td>\n      <td>1</td>\n      <td>3</td>\n      <td>2018</td>\n      <td>60.39</td>\n      <td>61.97</td>\n      <td>60.28</td>\n      <td>61.63</td>\n    </tr>\n    <tr>\n      <th>825</th>\n      <td>1/2/2018</td>\n      <td>1</td>\n      <td>2</td>\n      <td>2018</td>\n      <td>60.20</td>\n      <td>60.74</td>\n      <td>60.10</td>\n      <td>60.37</td>\n    </tr>\n  </tbody>\n</table>\n<p>826 rows × 8 columns</p>\n</div>"
     },
     "metadata": {},
     "execution_count": 20
    }
   ],
   "source": [
    "df = pd.read_excel(\"Crude _FM.xlsx\")\n",
    "df"
   ]
  },
  {
   "source": [
    "The float price of an Asian option is the average of the Future price of the front month contract over the period, i.e. the float price of an Apr21 Asian call option on WTI future is the average of the front month WTI future prices in Apr21\n",
    "\n"
   ],
   "cell_type": "markdown",
   "metadata": {}
  },
  {
   "source": [
    "We have calculated the float price of the Asian option on WTI futures, since Apr21 we do not have the full month data, we would just drop the Apr21 data here.\n"
   ],
   "cell_type": "markdown",
   "metadata": {}
  },
  {
   "cell_type": "code",
   "execution_count": 21,
   "metadata": {},
   "outputs": [
    {
     "output_type": "execute_result",
     "data": {
      "text/plain": [
       "Year  Month\n",
       "2018  1        63.659048\n",
       "      2        62.183684\n",
       "      3        62.771905\n",
       "      4        66.325238\n",
       "      5        69.983182\n",
       "      6        67.322857\n",
       "      7        70.581905\n",
       "      8        67.845217\n",
       "      9        70.084737\n",
       "      10       70.757826\n",
       "      11       56.693333\n",
       "      12       48.777368\n",
       "2019  1        51.550476\n",
       "      2        54.980526\n",
       "      3        58.168095\n",
       "      4        63.870952\n",
       "      5        60.768261\n",
       "      6        54.706500\n",
       "      7        57.537391\n",
       "      8        54.844091\n",
       "      9        56.878095\n",
       "      10       54.005652\n",
       "      11       57.070000\n",
       "      12       59.784762\n",
       "2020  1        57.528571\n",
       "      2        50.664737\n",
       "      3        30.445455\n",
       "      4        20.282857\n",
       "      5        28.527500\n",
       "      6        38.313636\n",
       "      7        40.765909\n",
       "      8        42.388095\n",
       "      9        39.625714\n",
       "      10       39.554545\n",
       "      11       41.346500\n",
       "      12       47.068182\n",
       "2021  1        52.149474\n",
       "      2        59.061053\n",
       "      3        62.357391\n",
       "Name: Close, dtype: float64"
      ]
     },
     "metadata": {},
     "execution_count": 21
    }
   ],
   "source": [
    "average_price = df.groupby([\"Year\", \"Month\"])[\"Close\"].mean()\n",
    "average_price = average_price[0:-1:]\n",
    "average_price"
   ]
  },
  {
   "source": [
    "We calculate the first three moments and skewness of the observed float price data"
   ],
   "cell_type": "markdown",
   "metadata": {}
  },
  {
   "cell_type": "code",
   "execution_count": 22,
   "metadata": {},
   "outputs": [
    {
     "output_type": "stream",
     "name": "stdout",
     "text": [
      "    statistic Average Price of WTI Futures\n.............................................\n        First Moment         54.134\n       Second Moment       3077.607\n        Third Moment     181053.688\n                Skew         -0.828\n"
     ]
    }
   ],
   "source": [
    "m1_data = average_price.mean()\n",
    "m2_data = (average_price**2).mean()\n",
    "m3_data = (average_price**3).mean()\n",
    "skew_data = skew(average_price)\n",
    "print('%13s %14s' % ('statistic', 'Average Price of WTI Futures'))\n",
    "print(45 * \".\")\n",
    "print('%20s %14.3f' % ('First Moment', m1_data))\n",
    "print('%20s %14.3f' % ('Second Moment', m2_data))\n",
    "print('%20s %14.3f' % ('Third Moment', m3_data))\n",
    "print('%20s %14.3f' % ('Skew', skew_data))"
   ]
  },
  {
   "source": [
    "We first would like to match the observed two moments of the underlying average price/float price with log-normal distribution\n",
    "\n"
   ],
   "cell_type": "markdown",
   "metadata": {}
  },
  {
   "cell_type": "code",
   "execution_count": 23,
   "metadata": {},
   "outputs": [
    {
     "output_type": "stream",
     "name": "stdout",
     "text": [
      "[3.96697559 0.22131019]\n"
     ]
    }
   ],
   "source": [
    "def funtionsolve(z):\n",
    "    mu=z[0]\n",
    "    sigma=z[1]\n",
    "    F=np.zeros(2)\n",
    "    F[0] = math.exp(mu+1/2*sigma**2) - m1_data\n",
    "    F[1] = math.exp(2*mu+2*sigma**2) - m2_data\n",
    "    return F\n",
    "zGuess = np.array([3,1])\n",
    "z=fsolve(funtionsolve,zGuess)\n",
    "print(z)"
   ]
  },
  {
   "cell_type": "code",
   "execution_count": 24,
   "metadata": {},
   "outputs": [
    {
     "output_type": "stream",
     "name": "stdout",
     "text": [
      "               lognormal parameters\n..................................................\n                mean          3.967\n               sigma          0.221\n"
     ]
    }
   ],
   "source": [
    "print('%35s' % ('lognormal parameters'))\n",
    "print(50 * \".\")\n",
    "print('%20s %14.3f' % ('mean', z[0]))\n",
    "print('%20s %14.3f' % ('sigma', z[1]))"
   ]
  },
  {
   "source": [
    "Now we could apply the Black76 formula as we approximate the underlying asian float price as lognormally distributed"
   ],
   "cell_type": "markdown",
   "metadata": {}
  },
  {
   "cell_type": "code",
   "execution_count": 31,
   "metadata": {},
   "outputs": [],
   "source": [
    "def black_76(r,float,strike,sigma_float,T):\n",
    "    d1 = (math.log(float/strike)+0.5*T*sigma_float**2)/(sigma_float*math.sqrt(T))\n",
    "    d2 = d1-sigma_float*math.sqrt(T)\n",
    "    c = math.exp(-r*T)*(float*norm.cdf(d1)-strike*norm.cdf(d2))\n",
    "    return c"
   ]
  },
  {
   "cell_type": "code",
   "execution_count": 37,
   "metadata": {},
   "outputs": [
    {
     "output_type": "execute_result",
     "data": {
      "text/plain": [
       "6.0798709609309505"
      ]
     },
     "metadata": {},
     "execution_count": 37
    }
   ],
   "source": [
    "asian_float = 62\n",
    "strike = 56\n",
    "T=1/12\n",
    "r=0.0166 ##use US 10-year treasury yield\n",
    "a = black_76(r,asian_float,strike,0.221,T)\n",
    "a"
   ]
  },
  {
   "source": [
    "Since the skew is negative and average price is always positive, we now match the moments of the underlying with shifted negative lognormal distribution "
   ],
   "cell_type": "markdown",
   "metadata": {}
  },
  {
   "cell_type": "code",
   "execution_count": 38,
   "metadata": {},
   "outputs": [
    {
     "output_type": "stream",
     "name": "stdout",
     "text": [
      "[14.23716279  3.64329094  0.28543175]\n"
     ]
    }
   ],
   "source": [
    "def funtionsolve(z):\n",
    "    tau = z[0]\n",
    "    mu=z[1]\n",
    "    sigma=z[2]\n",
    "    F=np.zeros(3)\n",
    "   \n",
    "    F[0] = tau+ np.exp(mu+1/2*sigma**2) - 54.134\n",
    "    F[1] = tau**2+ 2*tau*np.exp(mu+1/2*sigma**2) + np.exp(2*mu+2*sigma**2) - 3077.607\n",
    "    F[2] = tau**3+ 3*tau**2*np.exp(mu+1/2*sigma**2) + 3*tau*np.exp(2*mu+2*sigma**2)+np.exp(3*mu+9/2*sigma**2) - 181053.688\n",
    "    return F\n",
    "zGuess = np.array([0,3,1])\n",
    "z=fsolve(funtionsolve,zGuess)\n",
    "print(z) "
   ]
  },
  {
   "cell_type": "code",
   "execution_count": 39,
   "metadata": {},
   "outputs": [
    {
     "output_type": "stream",
     "name": "stdout",
     "text": [
      "     Estimated Value           True Value\n.............................................\n          54.044                 54.134\n        3055.201               3077.607\n      181053.421             181053.688\n"
     ]
    }
   ],
   "source": [
    "tau = 14.23716279\n",
    "mu = 3.64329094\n",
    "sigma = 0.28543175\n",
    "\n",
    "\n",
    "print('%20s %20s' % ('Estimated Value', 'True Value'))\n",
    "print(45 * \".\")\n",
    "print('%16.3f %22.3f' % (tau+ np.exp(mu+1/2*sigma**2), 54.134))\n",
    "print('%16.3f %22.3f' % (tau**2+ 2*tau*np.exp(mu+1/2*sigma**2) + np.exp(2*mu+2*sigma**2), 3077.607))\n",
    "print('%16.3f %22.3f' % (tau**3+ 3*tau**2*np.exp(mu+1/2*sigma**2) + 3*tau*np.exp(2*mu+2*sigma**2)+np.exp(3*mu+9/2*sigma**2), 181053.688))"
   ]
  },
  {
   "cell_type": "code",
   "execution_count": 40,
   "metadata": {},
   "outputs": [
    {
     "output_type": "execute_result",
     "data": {
      "text/plain": [
       "6.0713598870617975"
      ]
     },
     "metadata": {},
     "execution_count": 40
    }
   ],
   "source": [
    "tau = 14.23716279\n",
    "mu = 3.64329094  \n",
    "sigma = 0.28543175\n",
    "\n",
    "asian_float = 62 - tau\n",
    "strike = 56 - tau \n",
    "T=1/12\n",
    "r=0.0166 ##use US 10-year treasury yield\n",
    "b= black_76(r,asian_float,strike,sigma,T)\n",
    "b"
   ]
  },
  {
   "cell_type": "code",
   "execution_count": 41,
   "metadata": {},
   "outputs": [
    {
     "output_type": "stream",
     "name": "stdout",
     "text": [
      "      Lognormal     Shifted Negative Lognormal\n.............................................\n        6.080                  6.071\n"
     ]
    }
   ],
   "source": [
    "print('%15s %30s' % ('Lognormal', 'Shifted Negative Lognormal'))\n",
    "print(45 * \".\")\n",
    "print('%13.3f %22.3f' % (a, b))"
   ]
  },
  {
   "cell_type": "code",
   "execution_count": null,
   "metadata": {},
   "outputs": [],
   "source": []
  },
  {
   "cell_type": "code",
   "execution_count": null,
   "metadata": {},
   "outputs": [],
   "source": []
  }
 ]
}